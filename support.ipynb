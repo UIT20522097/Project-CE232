{
 "cells": [
  {
   "cell_type": "code",
   "execution_count": 1,
   "metadata": {},
   "outputs": [],
   "source": [
    "import numpy as np"
   ]
  },
  {
   "cell_type": "code",
   "execution_count": 3,
   "metadata": {},
   "outputs": [
    {
     "data": {
      "text/plain": [
       "array([38.35, 22.3 , 34.16, 33.67, 33.88, 26.21, 21.77, 31.98, 32.67,\n",
       "       21.67, 29.5 , 29.57, 22.35, 34.22, 39.14, 33.51, 29.22, 36.97,\n",
       "       35.93, 21.42, 37.14, 38.63, 21.2 , 24.54, 23.97, 22.41, 23.83,\n",
       "       39.36, 23.28, 23.28, 33.7 , 27.23, 20.15, 26.56, 31.45, 27.64,\n",
       "       29.25, 21.66, 26.63, 37.35, 21.54, 35.74, 28.89, 30.1 , 24.68,\n",
       "       27.72, 34.94, 23.06, 28.12, 31.49, 22.28, 21.28, 39.92, 21.25,\n",
       "       37.83, 36.74, 37.4 , 23.58, 30.49, 29.  , 38.98, 20.78, 32.15,\n",
       "       29.02, 22.95, 26.87, 27.69, 35.41, 34.52, 32.91, 38.11, 25.55,\n",
       "       23.59, 29.16, 35.63, 30.59, 39.29, 27.33, 22.63, 26.24, 34.16,\n",
       "       28.23, 37.23, 23.98, 24.77, 37.78, 26.42, 37.94, 21.43, 21.21,\n",
       "       32.86, 27.21, 32.09, 22.93, 21.42, 39.33, 25.37, 25.9 , 35.56,\n",
       "       25.44])"
      ]
     },
     "execution_count": 3,
     "metadata": {},
     "output_type": "execute_result"
    }
   ],
   "source": [
    "# Tạo mảng tên temperature 100 phần tử với các giá trị ngẫu nhiên giao động trong khoảng từ 20 đến 40 và chỉ nhận phần thập phân đến 2 chữ số\n",
    "temperature = np.round(np.random.uniform(20, 40, 100), 2)\n",
    "temperature"
   ]
  }
 ],
 "metadata": {
  "kernelspec": {
   "display_name": "ipynb",
   "language": "python",
   "name": "python3"
  },
  "language_info": {
   "codemirror_mode": {
    "name": "ipython",
    "version": 3
   },
   "file_extension": ".py",
   "mimetype": "text/x-python",
   "name": "python",
   "nbconvert_exporter": "python",
   "pygments_lexer": "ipython3",
   "version": "3.10.8"
  },
  "orig_nbformat": 4
 },
 "nbformat": 4,
 "nbformat_minor": 2
}
