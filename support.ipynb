{
 "cells": [
  {
   "cell_type": "code",
   "execution_count": 2,
   "metadata": {},
   "outputs": [],
   "source": [
    "# Tạo một biến kiểu JSON và POST lên server\n",
    "import requests\n",
    "import json\n",
    "\n",
    "url = 'http://192.168.1.8/status'"
   ]
  },
  {
   "cell_type": "code",
   "execution_count": 8,
   "metadata": {},
   "outputs": [
    {
     "name": "stdout",
     "output_type": "stream",
     "text": [
      "{\"temperature\": 29.5, \"fan_state\": true, \"pump_state\": false, \"light_state\": true}\n"
     ]
    }
   ],
   "source": [
    "\"\"\" {\n",
    "    \"temperature\": 25.5,\n",
    "    \"fan_state\": true,\n",
    "    \"pump_state\": false,\n",
    "    \"light_state\": true\n",
    "} \"\"\"\n",
    "# Tạo một biến kiểu JSON giống phía trên\n",
    "data = {\n",
    "    \"temperature\": 29.5,\n",
    "    \"fan_state\": True,\n",
    "    \"pump_state\": False,\n",
    "    \"light_state\": True\n",
    "}\n",
    "\n",
    "\n",
    "data_json = json.dumps(data)\n",
    "print(data_json)\n",
    "r = requests.post(url, data=data_json)"
   ]
  }
 ],
 "metadata": {
  "kernelspec": {
   "display_name": "ipynb",
   "language": "python",
   "name": "python3"
  },
  "language_info": {
   "codemirror_mode": {
    "name": "ipython",
    "version": 3
   },
   "file_extension": ".py",
   "mimetype": "text/x-python",
   "name": "python",
   "nbconvert_exporter": "python",
   "pygments_lexer": "ipython3",
   "version": "3.10.8"
  },
  "orig_nbformat": 4
 },
 "nbformat": 4,
 "nbformat_minor": 2
}
